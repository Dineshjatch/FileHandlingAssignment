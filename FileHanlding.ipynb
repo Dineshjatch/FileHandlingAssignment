{
  "nbformat": 4,
  "nbformat_minor": 0,
  "metadata": {
    "colab": {
      "provenance": []
    },
    "kernelspec": {
      "name": "python3",
      "display_name": "Python 3"
    },
    "language_info": {
      "name": "python"
    }
  },
  "cells": [
    {
      "cell_type": "markdown",
      "source": [
        "Que 1.  What is the difference between interpreted and compiled languages?\n",
        "-  Compiled Languages:\n",
        " - Translation: Code is translated all at once into machine code by a compiler before it runs.\n",
        "\n",
        "  - Execution: After compiling, the program runs directly from the compiled machine code.\n",
        "\n",
        " - Speed: Generally faster because the translation happens before execution.\n",
        "\n",
        " - Examples: C, C++, Rust, Go.\n",
        "\n",
        "- Interpreted Languages:\n",
        " - Translation: Code is translated line-by-line by an interpreter at runtime.\n",
        "\n",
        " - Execution: The program runs while being interpreted, without a separate compilation step.\n",
        "\n",
        " - Speed: Usually slower than compiled languages due to on-the-fly translation.\n",
        "\n",
        " - Examples: Python, JavaScript, Ruby.\n",
        "\n",
        "Que 2. What is exception handling in Python?\n",
        " - Exception handling in Python is the process of responding to exceptions (errors) that occur during program execution using try, except, else, and finally blocks to prevent the program from crashing and to handle errors gracefully.\n",
        "\n",
        "Que 3. What is the purpose of the finally block in Python's exception handling?\n",
        " - The finally block is used to execute a section of code regardless of whether an exception is raised or not. It’s typically used for clean-up operations like closing files, releasing system resources, or resetting variables—tasks that must be performed no matter what happens in the try/except blocks.\n",
        "\n",
        "4. What is logging in Python?\n",
        "- Logging in Python is a built-in way to keep track of events that occur during the execution of a program. It records information such as errors, warnings, and operational details, helping developers debug issues and monitor how a program is functioning in production environments.\n",
        "\n",
        "5. What is the significance of the __del__ method in Python?\n",
        "- The __del__ method is known as a destructor in Python and is called when an object is about to be destroyed. It’s generally used to clean up external resources like open files or database connections, although its use is discouraged in many cases because the exact time of object destruction isn't guaranteed due to garbage collection.\n",
        "\n",
        "6. What is the difference between import and from ... import in Python?\n",
        "- The import statement loads an entire module, requiring you to use the module name to access functions or classes (e.g., math.sqrt). In contrast, from ... import allows you to import specific functions or classes directly into your code, eliminating the need to use the module prefix (e.g., from math import sqrt).\n",
        "\n",
        "7. How can you handle multiple exceptions in Python?\n",
        "- You can handle multiple exceptions by using multiple except blocks for different error types or by grouping exceptions in a single except block using a tuple. This approach allows your program to respond specifically and appropriately to different types of errors.\n",
        "\n",
        "8. What is the purpose of the with statement when handling files in Python?\n",
        "- The with statement ensures that resources such as file handles are properly managed. It automatically opens and closes a file, even if an error occurs during file operations, which helps prevent resource leaks and ensures consistent behavior.\n",
        "\n",
        "9. What is the difference between multithreading and multiprocessing?\n",
        "- Multithreading runs multiple threads within a single process and shares the same memory space, making it suitable for I/O-bound tasks. Multiprocessing, on the other hand, runs separate processes with isolated memory spaces, making it more effective for CPU-bound tasks and avoiding issues like thread safety.\n",
        "\n",
        "10. What are the advantages of using logging in a program?\n",
        "- Logging provides valuable insights into the internal workings of an application. It helps track program flow, diagnose issues, monitor performance, and store execution history, all of which are essential for maintaining and debugging software, especially in production environments.\n",
        "\n",
        "11. What is memory management in Python?\n",
        "- Memory management in Python involves the allocation, use, and deallocation of memory during a program’s execution. Python handles this automatically through mechanisms like reference counting and garbage collection, helping developers avoid manual memory management.\n",
        "\n",
        "12. What are the basic steps involved in exception handling in Python?\n",
        "- Exception handling involves writing risky code inside a try block, catching specific exceptions using except, optionally executing code with else if no errors occur, and always running clean-up code with finally.\n",
        "\n",
        "13. Why is memory management important in Python?\n",
        "- Efficient memory management ensures that a Python program uses only the memory it needs, which prevents memory leaks, improves performance, and helps applications run smoothly—especially important in long-running or resource-intensive applications.\n",
        "\n",
        "14. What is the role of try and except in exception handling?\n",
        "- The try block contains code that might raise an exception, while the except block specifies how to respond if an exception occurs. This structure allows programs to handle errors gracefully without crashing.\n",
        "\n",
        "15. How does Python’s garbage collection system work?\n",
        "- Python automatically manages memory using reference counting and a cyclic garbage collector. When an object is no longer referenced, Python reclaims its memory. For objects in reference cycles, the garbage collector can detect and clean them up.\n",
        "\n",
        "16. What is the purpose of the else block in exception handling?\n",
        "- The else block runs only if the try block does not raise an exception. It’s useful for placing code that should execute only when no errors occur, helping keep the code organized and easier to understand.\n",
        "\n",
        "17. What are the common logging levels in Python?\n",
        "- Python has five standard logging levels: DEBUG (detailed information), INFO (general events), WARNING (something unexpected), ERROR (a serious problem), and CRITICAL (a very severe error).\n",
        "\n",
        "18. What is the difference between os.fork() and the multiprocessing module in Python?\n",
        "- os.fork() is a Unix-only method to create a child process by duplicating the parent. The multiprocessing module is cross-platform and provides a more user-friendly, high-level API for creating processes and managing parallel tasks.\n",
        "\n",
        "19. What is the importance of closing a file in Python?\n",
        "- Closing a file releases system resources and ensures that any data written to the file is properly saved. Not closing files can lead to data corruption or memory/resource leaks, especially in large applications.\n",
        "\n",
        "20. What is the difference between file.read() and file.readline() in Python?\n",
        "- file.read() reads the entire file content at once as a string, while file.readline() reads just a single line at a time. readline() is more memory-efficient for reading large files line-by-line.\n",
        "\n",
        "21. What is the logging module in Python used for?\n",
        "- The logging module is a built-in Python tool used to write log messages to the console or files. It allows developers to monitor applications, record errors, and gain insight into runtime behavior across different environments.\n",
        "\n",
        "22. What is the os module in Python used for in file handling?\n",
        "- The os module provides functions for interacting with the operating system. It helps with tasks like checking if files or directories exist, creating/removing folders, and navigating the file system.\n",
        "\n",
        "23. What are the challenges associated with memory management in Python?\n",
        "- Common challenges include managing reference cycles, avoiding memory leaks from global variables, and ensuring efficient memory use in long-running or high-performance applications.\n",
        "\n",
        "24. How do you raise an exception manually in Python?\n",
        "- You can manually raise an exception using the raise statement, followed by the exception type and an optional error message. For example: raise ValueError(\"Invalid input\").\n",
        "\n",
        "25. Why is it important to use multithreading in certain applications?\n",
        "- Multithreading is useful in I/O-bound applications like web servers or GUI programs, where tasks can run concurrently without blocking each other. It helps improve responsiveness and performance by handling multiple tasks simultaneously within a single process."
      ],
      "metadata": {
        "id": "Hu_BuAIdVndG"
      }
    },
    {
      "cell_type": "code",
      "source": [
        "#1. How can you open a file for writing in Python and write a string to it?\n",
        "file = open(\"example.txt\", \"w\")\n",
        "file.write(\"Hello, World!\")\n",
        "file.close()"
      ],
      "metadata": {
        "id": "xKK4NjZqYf45"
      },
      "execution_count": 1,
      "outputs": []
    },
    {
      "cell_type": "code",
      "source": [
        "#2. Write a Python program to read the contents of a file and print each line?\n",
        "file=open(\"example.txt\", \"r\")\n",
        "for line in file:\n",
        "  print(line)\n",
        "file.close()"
      ],
      "metadata": {
        "colab": {
          "base_uri": "https://localhost:8080/"
        },
        "id": "dv1y9LsVYwXN",
        "outputId": "d2a20c36-baef-4ed6-89c9-e75a6c3dba7b"
      },
      "execution_count": 2,
      "outputs": [
        {
          "output_type": "stream",
          "name": "stdout",
          "text": [
            "Hello, World!\n"
          ]
        }
      ]
    },
    {
      "cell_type": "code",
      "source": [
        "#3 How would you handle a case where the file doesn't exist while trying to open it for reading?\n",
        "try:\n",
        "    with open('exampe.txt', 'r') as file:\n",
        "        content = file.read()\n",
        "        print(content)\n",
        "except FileNotFoundError:\n",
        "    print(\"The file you are trying to open does not exist.\")\n",
        "\n",
        ""
      ],
      "metadata": {
        "colab": {
          "base_uri": "https://localhost:8080/"
        },
        "id": "_XzLJolTZfjd",
        "outputId": "7d6b49da-4da8-4ec2-d60e-843f2fdf17f1"
      },
      "execution_count": 3,
      "outputs": [
        {
          "output_type": "stream",
          "name": "stdout",
          "text": [
            "The file you are trying to open does not exist.\n"
          ]
        }
      ]
    },
    {
      "cell_type": "code",
      "source": [
        "#4 Write a Python script that reads from one file and writes its content to another file?\n",
        "file1=open(\"example.txt\", \"r\")\n",
        "file2=open(\"example2.txt\", \"w\")\n",
        "for line in file1:\n",
        "  file2.write(line)\n",
        "file1.close()\n",
        "file2.close()"
      ],
      "metadata": {
        "id": "lF3n0Z75aEyi"
      },
      "execution_count": 4,
      "outputs": []
    },
    {
      "cell_type": "code",
      "source": [
        "#5 How would you catch and handle division by zero error in Python?\n",
        "try:\n",
        "    result = 10 / 0\n",
        "except ZeroDivisionError:\n",
        "    print(\"Error: Division by zero\")"
      ],
      "metadata": {
        "colab": {
          "base_uri": "https://localhost:8080/"
        },
        "id": "xhSvT18vaPJi",
        "outputId": "118e6e07-424a-4469-ba92-fcfa87885ab5"
      },
      "execution_count": 5,
      "outputs": [
        {
          "output_type": "stream",
          "name": "stdout",
          "text": [
            "Error: Division by zero\n"
          ]
        }
      ]
    },
    {
      "cell_type": "code",
      "source": [
        "#6 Write a Python program that logs an error message to a log file when a division by zero exception occurs?\n",
        "import logging\n",
        "\n",
        "logging.basicConfig(filename='error.log', level=logging.ERROR,\n",
        "                    format='%(asctime)s - %(levelname)s - %(message)s')\n",
        "\n",
        "try:\n",
        "    result = 10 / 0\n",
        "except ZeroDivisionError as e:\n",
        "    logging.error(\"Division by zero error occurred: %s\", e)\n",
        "    print(\"An error occurred. Check the log file for details.\")\n"
      ],
      "metadata": {
        "colab": {
          "base_uri": "https://localhost:8080/"
        },
        "id": "-GLDpJM4aYAq",
        "outputId": "ab8ffbb3-e0ff-4d70-e265-9d897bbe4503"
      },
      "execution_count": 6,
      "outputs": [
        {
          "output_type": "stream",
          "name": "stderr",
          "text": [
            "ERROR:root:Division by zero error occurred: division by zero\n"
          ]
        },
        {
          "output_type": "stream",
          "name": "stdout",
          "text": [
            "An error occurred. Check the log file for details.\n"
          ]
        }
      ]
    },
    {
      "cell_type": "code",
      "source": [
        "#7 How do you log information at different levels (INFO, ERROR, WARNING) in Python using the logging module?\n",
        "import logging\n",
        "\n",
        "logging.basicConfig(level=logging.INFO)\n",
        "logging.info(\"This is an info message\")\n"
      ],
      "metadata": {
        "id": "4vQ0_diDaoUW"
      },
      "execution_count": 7,
      "outputs": []
    },
    {
      "cell_type": "code",
      "source": [
        "#8. Write a program to handle a file opening error using exception handling?\n",
        "def open_file(filename):\n",
        "    try:\n",
        "        with open(filename, 'r') as file:\n",
        "            print(\"File opened successfully\")\n",
        "    except FileNotFoundError:\n",
        "        print(\"Error opening file\")\n",
        "\n",
        "open_file(\"non_existent_file.txt\")\n"
      ],
      "metadata": {
        "colab": {
          "base_uri": "https://localhost:8080/"
        },
        "id": "ipCVzJeRa1es",
        "outputId": "90e4e4c9-66a1-4a11-af57-8cb888ea523f"
      },
      "execution_count": 8,
      "outputs": [
        {
          "output_type": "stream",
          "name": "stdout",
          "text": [
            "Error opening file\n"
          ]
        }
      ]
    },
    {
      "cell_type": "code",
      "source": [
        "#9 How can you read a file line by line and store its content in a list in Python?\n",
        "file = open(\"example.txt\", \"r\")\n",
        "lines = file.readlines()\n",
        "file.close()\n",
        "print(lines)"
      ],
      "metadata": {
        "colab": {
          "base_uri": "https://localhost:8080/"
        },
        "id": "i9Fqs2K6bN_a",
        "outputId": "429ac64e-ff0f-4e3e-ccd2-83df1281b0d3"
      },
      "execution_count": 9,
      "outputs": [
        {
          "output_type": "stream",
          "name": "stdout",
          "text": [
            "['Hello, World!']\n"
          ]
        }
      ]
    },
    {
      "cell_type": "code",
      "source": [
        "#10 How can you append data to an existing file in Python?\n",
        "file = open(\"example.txt\", \"a\")\n",
        "file.write(\"\\nAppended line\")\n",
        "file.close()"
      ],
      "metadata": {
        "id": "3TCLuMHubY2U"
      },
      "execution_count": 10,
      "outputs": []
    },
    {
      "cell_type": "code",
      "source": [
        "#11 Write a Python program that uses a try-except block to handle an error when attempting to access a dictionary key that doesn't exist\n",
        "my_dict = {'a': 1, 'b': 2, 'c': 3}\n",
        "\n",
        "try:\n",
        "    value = my_dict['d']\n",
        "except KeyError:\n",
        "    print(\"Error: Key not found in dictionary\")\n",
        ""
      ],
      "metadata": {
        "colab": {
          "base_uri": "https://localhost:8080/"
        },
        "id": "IgDxolnEb4HC",
        "outputId": "b2046a19-0f1b-4ae0-a48b-2ec522729485"
      },
      "execution_count": 11,
      "outputs": [
        {
          "output_type": "stream",
          "name": "stdout",
          "text": [
            "Error: Key not found in dictionary\n"
          ]
        }
      ]
    },
    {
      "cell_type": "code",
      "source": [
        "#12 Write a program that demonstrates using multiple except blocks to handle different types of exceptions?\n",
        "try:\n",
        "    result = 10 / 0\n",
        "except ZeroDivisionError:\n",
        "    print(\"Error: Division by zero\")\n",
        "except ValueError:\n",
        "    print(\"Error: Invalid value\")"
      ],
      "metadata": {
        "colab": {
          "base_uri": "https://localhost:8080/"
        },
        "id": "R5CqZfzlcA_e",
        "outputId": "8acbe763-e5cc-4da0-ac46-e92dfc83af67"
      },
      "execution_count": 12,
      "outputs": [
        {
          "output_type": "stream",
          "name": "stdout",
          "text": [
            "Error: Division by zero\n"
          ]
        }
      ]
    },
    {
      "cell_type": "code",
      "source": [
        "#13 How would you check if a file exists before attempting to read it in Python?\n",
        "import os\n",
        "\n",
        "def open_file(filename):\n",
        "    if os.path.exists(filename):\n",
        "        with open(filename, 'r') as file:\n",
        "            print(\"File opened successfully\")\n",
        "    else:\n",
        "        print(\"File does not exist\")\n",
        "\n",
        "open_file(\"non_existent_file.txt\")\n"
      ],
      "metadata": {
        "colab": {
          "base_uri": "https://localhost:8080/"
        },
        "id": "zjVBLtCZcKwO",
        "outputId": "da12dc3b-341d-42eb-8197-c63da7cc38d0"
      },
      "execution_count": 13,
      "outputs": [
        {
          "output_type": "stream",
          "name": "stdout",
          "text": [
            "File does not exist\n"
          ]
        }
      ]
    },
    {
      "cell_type": "code",
      "source": [
        "#14 Write a program that uses the logging module to log both informational and error messages?\n",
        "import logging\n",
        "\n",
        "logging.basicConfig(level=logging.INFO)\n",
        "logging.info(\"This is an info message\")\n",
        "\n",
        "logging.basicConfig(level=logging.ERROR)\n",
        "logging.error(\"This is an error message\")"
      ],
      "metadata": {
        "colab": {
          "base_uri": "https://localhost:8080/"
        },
        "id": "uzk95suSctV_",
        "outputId": "7e8862bf-b992-46f5-ca1b-d09734125348"
      },
      "execution_count": 14,
      "outputs": [
        {
          "output_type": "stream",
          "name": "stderr",
          "text": [
            "ERROR:root:This is an error message\n"
          ]
        }
      ]
    },
    {
      "cell_type": "code",
      "source": [
        "#15 Write a Python program that prints the content of a file and handles the case when the file is empty\n",
        "def print_file_content(filename):\n",
        "    try:\n",
        "        with open(filename, 'r') as file:\n",
        "            content = file.read()\n",
        "            if content:\n",
        "                print(content)\n",
        "            else:\n",
        "                print(\"The file is empty.\")\n",
        "    except FileNotFoundError:\n",
        "        print(f\"File '{filename}' not found.\")"
      ],
      "metadata": {
        "id": "z42j9B0Vc1u6"
      },
      "execution_count": 16,
      "outputs": []
    },
    {
      "cell_type": "code",
      "source": [
        "#16 Demonstrate how to use memory profiling to check the memory usage of a small program\n",
        "!pip install memory-profiler\n",
        "\n",
        "from memory_profiler import profile\n",
        "\n",
        "@profile\n",
        "def my_function():\n",
        "    a = [i for i in range(1000000)]  # Creating a large list\n",
        "    b = sum(a)  # Summing the list elements\n",
        "    print(b)\n",
        "\n",
        "my_function()\n"
      ],
      "metadata": {
        "colab": {
          "base_uri": "https://localhost:8080/"
        },
        "id": "_5Ejp41Mc_b6",
        "outputId": "9d47af7e-87bc-4565-b5f1-d3d0bb03b56c"
      },
      "execution_count": 18,
      "outputs": [
        {
          "output_type": "stream",
          "name": "stdout",
          "text": [
            "Collecting memory-profiler\n",
            "  Downloading memory_profiler-0.61.0-py3-none-any.whl.metadata (20 kB)\n",
            "Requirement already satisfied: psutil in /usr/local/lib/python3.11/dist-packages (from memory-profiler) (5.9.5)\n",
            "Downloading memory_profiler-0.61.0-py3-none-any.whl (31 kB)\n",
            "Installing collected packages: memory-profiler\n",
            "Successfully installed memory-profiler-0.61.0\n"
          ]
        },
        {
          "output_type": "stream",
          "name": "stderr",
          "text": [
            "\n",
            "PYDEV DEBUGGER WARNING:\n",
            "sys.settrace() should not be used when the debugger is being used.\n",
            "This may cause the debugger to stop working correctly.\n",
            "If this is needed, please check: \n",
            "http://pydev.blogspot.com/2007/06/why-cant-pydev-debugger-work-with.html\n",
            "to see how to restore the debug tracing back correctly.\n",
            "Call Location:\n",
            "  File \"/usr/local/lib/python3.11/dist-packages/memory_profiler.py\", line 847, in enable\n",
            "    sys.settrace(self.trace_memory_usage)\n",
            "\n"
          ]
        },
        {
          "output_type": "stream",
          "name": "stdout",
          "text": [
            "ERROR: Could not find file <ipython-input-18-b4f6f57df74c>\n",
            "NOTE: %mprun can only be used on functions defined in physical files, and not in the IPython environment.\n"
          ]
        },
        {
          "output_type": "stream",
          "name": "stderr",
          "text": [
            "\n",
            "PYDEV DEBUGGER WARNING:\n",
            "sys.settrace() should not be used when the debugger is being used.\n",
            "This may cause the debugger to stop working correctly.\n",
            "If this is needed, please check: \n",
            "http://pydev.blogspot.com/2007/06/why-cant-pydev-debugger-work-with.html\n",
            "to see how to restore the debug tracing back correctly.\n",
            "Call Location:\n",
            "  File \"/usr/local/lib/python3.11/dist-packages/memory_profiler.py\", line 850, in disable\n",
            "    sys.settrace(self._original_trace_function)\n",
            "\n"
          ]
        },
        {
          "output_type": "stream",
          "name": "stdout",
          "text": [
            "499999500000\n"
          ]
        }
      ]
    },
    {
      "cell_type": "code",
      "source": [
        "#17. Write a Python program to create and write a list of numbers to a file, one number per line\n",
        "numbers = [1, 2, 3, 4, 5]\n",
        "\n",
        "with open('numbers.txt', 'w') as file:\n",
        "    for number in numbers:\n",
        "        file.write(f\"{number}\\n\")\n"
      ],
      "metadata": {
        "id": "V7X7HKRCdtQt"
      },
      "execution_count": 19,
      "outputs": []
    },
    {
      "cell_type": "code",
      "source": [
        "#18. How would you implement a basic logging setup that logs to a file with rotation after 1MB?\n",
        "import logging\n",
        "from logging.handlers import RotatingFileHandler\n",
        "\n",
        "handler = RotatingFileHandler('app.log', maxBytes=1e6, backupCount=3)\n",
        "logging.basicConfig(level=logging.INFO, handlers=[handler])\n",
        "\n",
        "logging.info(\"This is an info message.\")\n"
      ],
      "metadata": {
        "id": "U2E-hGbbeeI9"
      },
      "execution_count": 20,
      "outputs": []
    },
    {
      "cell_type": "code",
      "source": [
        "#19. Write a program that handles both IndexError and KeyError using a try-except block?\n",
        "try:\n",
        "    my_list = [1, 2, 3]\n",
        "    print(my_list[5])\n",
        "\n",
        "    my_dict = {'a': 1, 'b': 2}\n",
        "    print(my_dict['c'])\n",
        "\n",
        "except IndexError as e:\n",
        "    print(f\"IndexError: {e}\")\n",
        "except KeyError as e:\n",
        "    print(f\"KeyError: {e}\")\n"
      ],
      "metadata": {
        "colab": {
          "base_uri": "https://localhost:8080/"
        },
        "id": "_Gg4zmoneufg",
        "outputId": "9174572e-9ec4-4108-b64c-11cda471be92"
      },
      "execution_count": 21,
      "outputs": [
        {
          "output_type": "stream",
          "name": "stdout",
          "text": [
            "IndexError: list index out of range\n"
          ]
        }
      ]
    },
    {
      "cell_type": "code",
      "source": [
        "#20. How would you open a file and read its contents using a context manager in Python?\n",
        "with open('example.txt', 'r') as file:\n",
        "    contents = file.read()\n",
        "    print(contents)\n"
      ],
      "metadata": {
        "colab": {
          "base_uri": "https://localhost:8080/"
        },
        "id": "iFU4hGepe8Il",
        "outputId": "398a3921-c6b8-4492-f49a-165d6bfa0cf8"
      },
      "execution_count": 22,
      "outputs": [
        {
          "output_type": "stream",
          "name": "stdout",
          "text": [
            "Hello, World!\n",
            "Appended line\n"
          ]
        }
      ]
    },
    {
      "cell_type": "code",
      "source": [
        "#21.  Write a Python program that reads a file and prints the number of occurrences of a specific word?\n",
        "def count_word_in_file(filename, word):\n",
        "    with open(filename, 'r') as file:\n",
        "        contents = file.read()\n",
        "        word_count = contents.lower().split().count(word.lower())\n",
        "    return word_count\n",
        "\n",
        "filename = 'example.txt'\n",
        "word = 'specific_word'\n",
        "count = count_word_in_file(filename, word)\n",
        "print(f\"The word '{word}' appears {count} times in the file.\")\n"
      ],
      "metadata": {
        "colab": {
          "base_uri": "https://localhost:8080/"
        },
        "id": "b0WLx3tHfFYx",
        "outputId": "17f2af57-6e78-4b5c-fbe5-8b5910e24aa7"
      },
      "execution_count": 23,
      "outputs": [
        {
          "output_type": "stream",
          "name": "stdout",
          "text": [
            "The word 'specific_word' appears 0 times in the file.\n"
          ]
        }
      ]
    },
    {
      "cell_type": "code",
      "source": [
        "#22 How can you check if a file is empty before attempting to read its contents?\n",
        "import os\n",
        "\n",
        "def is_file_empty(filename):\n",
        "    return os.path.getsize(filename) == 0\n",
        "\n",
        "filename = 'example.txt'\n",
        "\n",
        "if is_file_empty(filename):\n",
        "    print(\"The file is empty.\")\n",
        "else:\n",
        "    with open(filename, 'r') as file:\n",
        "        contents = file.read()\n",
        "        print(contents)\n"
      ],
      "metadata": {
        "colab": {
          "base_uri": "https://localhost:8080/"
        },
        "id": "OiqDqI_xfN-7",
        "outputId": "1bc85dd8-3bbe-4c1c-dc40-b92dc6f1601b"
      },
      "execution_count": 24,
      "outputs": [
        {
          "output_type": "stream",
          "name": "stdout",
          "text": [
            "Hello, World!\n",
            "Appended line\n"
          ]
        }
      ]
    },
    {
      "cell_type": "code",
      "source": [
        "#23 Write a Python program that writes to a log file when an error occurs during file handling.\n",
        "import logging\n",
        "\n",
        "logging.basicConfig(filename='error_log.txt', level=logging.ERROR)\n",
        "\n",
        "try:\n",
        "    with open('non_existent_file.txt', 'r') as file:\n",
        "        contents = file.read()\n",
        "except Exception as e:\n",
        "    logging.error(f\"Error: {e}\")\n"
      ],
      "metadata": {
        "colab": {
          "base_uri": "https://localhost:8080/"
        },
        "id": "3L4aqEa7fdvo",
        "outputId": "cc0f7e4f-2f2b-4b3e-fd99-b75f45d457f2"
      },
      "execution_count": 25,
      "outputs": [
        {
          "output_type": "stream",
          "name": "stderr",
          "text": [
            "ERROR:root:Error: [Errno 2] No such file or directory: 'non_existent_file.txt'\n"
          ]
        }
      ]
    },
    {
      "cell_type": "code",
      "source": [],
      "metadata": {
        "id": "A43ezA1dfuo4"
      },
      "execution_count": null,
      "outputs": []
    }
  ]
}